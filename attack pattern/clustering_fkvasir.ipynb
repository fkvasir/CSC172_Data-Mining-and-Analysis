{
 "cells": [
  {
   "cell_type": "code",
   "execution_count": null,
   "metadata": {},
   "outputs": [],
   "source": [
    "# Import necessary libraries\n",
    "import pandas as pd\n",
    "import numpy as np\n",
    "import matplotlib.pyplot as plt\n",
    "import seaborn as sns\n",
    "from sklearn.preprocessing import LabelEncoder, StandardScaler\n",
    "from sklearn.cluster import KMeans, DBSCAN\n",
    "from sklearn.decomposition import PCA\n",
    "from scipy.cluster.hierarchy import dendrogram, linkage\n",
    "from sklearn.metrics import silhouette_score"
   ]
  },
  {
   "cell_type": "code",
   "execution_count": null,
   "metadata": {},
   "outputs": [],
   "source": [
    "# Step 1: Load the Dataset\n",
    "data = pd.read_csv('cybersecurity_attacks.csv')\n"
   ]
  },
  {
   "cell_type": "code",
   "execution_count": null,
   "metadata": {},
   "outputs": [],
   "source": [
    "# Step 2: Data Cleaning\n",
    "# Drop columns with more than 50% missing values\n",
    "threshold = 0.5 * len(data)\n",
    "cleaned_data = data.dropna(thresh=threshold, axis=1)\n",
    "\n",
    "# Drop irrelevant columns\n",
    "irrelevant_columns = ['Payload Data', 'User Information', 'Device Information', 'Timestamp', \n",
    "                      'Source IP Address', 'Destination IP Address']\n",
    "cleaned_data = cleaned_data.drop(columns=irrelevant_columns, errors='ignore')\n",
    "\n",
    "# Check for non-numeric columns\n",
    "non_numeric_columns = cleaned_data.select_dtypes(include=['object']).columns\n",
    "print(f\"Non-numeric columns: {non_numeric_columns}\")\n",
    "\n",
    "# Encode all non-numeric columns using LabelEncoder\n",
    "for column in non_numeric_columns:\n",
    "    le = LabelEncoder()\n",
    "    cleaned_data[column] = le.fit_transform(cleaned_data[column].astype(str))\n",
    "\n",
    "# Verify the dataset is fully numeric\n",
    "print(\"Data types after encoding:\")\n",
    "print(cleaned_data.dtypes)\n",
    "\n",
    "\n",
    "# Impute missing values\n",
    "cleaned_data = cleaned_data.fillna(cleaned_data.median())"
   ]
  },
  {
   "cell_type": "code",
   "execution_count": null,
   "metadata": {},
   "outputs": [],
   "source": [
    "# Step 3: Standardize Data\n",
    "scaler = StandardScaler()\n",
    "scaled_data = scaler.fit_transform(cleaned_data)\n"
   ]
  },
  {
   "cell_type": "code",
   "execution_count": null,
   "metadata": {},
   "outputs": [],
   "source": [
    "# Step 4: Dimensionality Reduction for Visualization\n",
    "pca = PCA(n_components=2)\n",
    "reduced_data = pca.fit_transform(scaled_data)\n"
   ]
  },
  {
   "cell_type": "code",
   "execution_count": null,
   "metadata": {},
   "outputs": [],
   "source": [
    "# Visualize the PCA-transformed dataset\n",
    "plt.figure(figsize=(8, 6))\n",
    "plt.scatter(reduced_data[:, 0], reduced_data[:, 1], alpha=0.5)\n",
    "plt.title(\"PCA Reduced Data\")\n",
    "plt.xlabel(\"Principal Component 1\")\n",
    "plt.ylabel(\"Principal Component 2\")\n",
    "plt.show()"
   ]
  },
  {
   "cell_type": "code",
   "execution_count": null,
   "metadata": {},
   "outputs": [],
   "source": [
    "# Step 5: K-Means Clustering\n",
    "kmeans = KMeans(n_clusters=3, random_state=42)\n",
    "kmeans_labels = kmeans.fit_predict(scaled_data)"
   ]
  },
  {
   "cell_type": "code",
   "execution_count": null,
   "metadata": {},
   "outputs": [],
   "source": [
    "# Visualize K-Means Clustering\n",
    "plt.figure(figsize=(8, 6))\n",
    "plt.scatter(reduced_data[:, 0], reduced_data[:, 1], c=kmeans_labels, cmap='viridis', alpha=0.7)\n",
    "plt.title(\"K-Means Clustering Visualization\")\n",
    "plt.xlabel(\"Principal Component 1\")\n",
    "plt.ylabel(\"Principal Component 2\")\n",
    "plt.colorbar(label=\"Cluster Label\")\n",
    "plt.show()"
   ]
  },
  {
   "cell_type": "code",
   "execution_count": null,
   "metadata": {},
   "outputs": [],
   "source": [
    "# Evaluate K-Means with Silhouette Score\n",
    "kmeans_silhouette = silhouette_score(scaled_data, kmeans_labels)\n",
    "print(f\"K-Means Silhouette Score: {kmeans_silhouette:.2f}\")"
   ]
  },
  {
   "cell_type": "code",
   "execution_count": null,
   "metadata": {},
   "outputs": [],
   "source": [
    "# Step 6: DBSCAN Clustering\n",
    "dbscan = DBSCAN(eps=2, min_samples=5)\n",
    "dbscan_labels = dbscan.fit_predict(scaled_data)\n",
    "\n",
    "# Visualize DBSCAN Clustering\n",
    "plt.figure(figsize=(8, 6))\n",
    "plt.scatter(reduced_data[:, 0], reduced_data[:, 1], c=dbscan_labels, cmap='plasma', alpha=0.7)\n",
    "plt.title(\"DBSCAN Clustering Visualization\")\n",
    "plt.xlabel(\"Principal Component 1\")\n",
    "plt.ylabel(\"Principal Component 2\")\n",
    "plt.colorbar(label=\"Cluster Label\")\n",
    "plt.show()"
   ]
  },
  {
   "cell_type": "code",
   "execution_count": null,
   "metadata": {},
   "outputs": [],
   "source": [
    "# Evaluate DBSCAN Clustering\n",
    "unique_labels = len(set(dbscan_labels)) - (1 if -1 in dbscan_labels else 0)\n",
    "print(f\"DBSCAN identified {unique_labels} clusters (excluding noise points).\")\n"
   ]
  },
  {
   "cell_type": "code",
   "execution_count": null,
   "metadata": {},
   "outputs": [],
   "source": [
    "# Step 7: Hierarchical Clustering\n",
    "# Compute linkage matrix\n",
    "linkage_matrix = linkage(scaled_data, method='ward')\n",
    "\n",
    "# Plot dendrogram\n",
    "plt.figure(figsize=(10, 7))\n",
    "dendrogram(linkage_matrix, truncate_mode=\"level\", p=5)\n",
    "plt.title(\"Hierarchical Clustering Dendrogram\")\n",
    "plt.xlabel(\"Data Points\")\n",
    "plt.ylabel(\"Euclidean Distance\")\n",
    "plt.show()"
   ]
  },
  {
   "cell_type": "code",
   "execution_count": null,
   "metadata": {},
   "outputs": [],
   "source": [
    "# Step 8: Assign Clusters for Analysis\n",
    "cleaned_data['KMeans Cluster'] = kmeans_labels\n",
    "cleaned_data['DBSCAN Cluster'] = dbscan_labels\n",
    "\n",
    "# Visualize the dataset with clusters\n",
    "sns.pairplot(cleaned_data, hue='KMeans Cluster', diag_kind='kde')\n",
    "plt.show()"
   ]
  }
 ],
 "metadata": {
  "kernelspec": {
   "display_name": "Python 3",
   "language": "python",
   "name": "python3"
  },
  "language_info": {
   "codemirror_mode": {
    "name": "ipython",
    "version": 3
   },
   "file_extension": ".py",
   "mimetype": "text/x-python",
   "name": "python",
   "nbconvert_exporter": "python",
   "pygments_lexer": "ipython3",
   "version": "3.11.4"
  }
 },
 "nbformat": 4,
 "nbformat_minor": 2
}
